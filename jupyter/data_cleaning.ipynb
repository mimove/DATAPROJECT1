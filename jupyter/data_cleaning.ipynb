{
 "cells": [
  {
   "cell_type": "markdown",
   "metadata": {},
   "source": [
    "# Calidad de datos"
   ]
  },
  {
   "cell_type": "markdown",
   "metadata": {},
   "source": [
    "## Introducción\n",
    "\n",
    "La finalidad de este notebook es dar calidad a los datos de barrios y caracteísticas que nos devuelve nuestro módulo de python main.\n",
    "El archivo a leer es un geojson que resulta de intersectar el dataset incial de barrios con los datasets de características que hemos recopilado.\n",
    "\n",
    "La metodología que se ha utilizado para llevar a cabo esta fase del proyecto es la siguiente:\n",
    "\n",
    "1. Lectura de los datos.\n",
    "2. Exploración.\n",
    "3. Eliminación de filas y columnas.\n",
    "4. Cambio de los tipos de datos y tratamiento de nulos.\n",
    "\n",
    "> *Nota: Ejecutar las celdas de código en orden conforme van apereciendo.\n"
   ]
  },
  {
   "cell_type": "markdown",
   "metadata": {},
   "source": [
    "## Declaración de imports\n",
    "\n",
    "En la siguiente celda se importan las librerías necesarias para llevar a cabo esta tarea. Se explican a continuación:\n",
    "\n",
    "* **json**: Se utiliza para leer el archivo de barrios_caracteristicas_final y cargarlo.\n",
    "* **geopandas**: Al tratarse de datos geográficos tendremos que generar un primer dataframe con geopandas.\n",
    "* **pandas**: Es la librería con la que efectuaremos la mayor parte de nuestro análisis.\n",
    "* **numpy**: Esta librería la utilizamos principalmete para el tratamiento de los datos nulos\n",
    "* **matplotlib**: Representación de gráficas con python."
   ]
  },
  {
   "cell_type": "code",
   "execution_count": 75,
   "metadata": {},
   "outputs": [],
   "source": [
    "import json\n",
    "import geopandas as gpd\n",
    "import numpy as numpy\n",
    "import pandas as pd\n",
    "import matplotlib.pyplot as plt"
   ]
  },
  {
   "cell_type": "markdown",
   "metadata": {},
   "source": [
    "## 1. Lectura de los datos\n",
    "\n",
    "Incialmente se lee el fichero de salida de nuestro main.py. Al tratarse de un fichero geojson, la información relevante se almacena en un campo del geojson llamado *features*. Pr tanto en la siguiente celda se realizan los siguientes pasos:\n",
    "1. Carga de los datos como json.\n",
    "2. Almacenamiento del campo *features* dentro de una lista.\n",
    "3. Leemos la lista generada con geopandas para generar un geodataframe."
   ]
  },
  {
   "cell_type": "code",
   "execution_count": 76,
   "metadata": {},
   "outputs": [],
   "source": [
    "path = 'datos/datos_out/barrios_caracteristicas_final.geojson'\n",
    "\n",
    "\n",
    "with open(path) as json_file:\n",
    "    json_data = json.load(json_file)\n",
    "\n",
    "barrios_json = []\n",
    "for i in range(len(json_data['features'])):\n",
    "    barrios_json.append(json_data['features'][i])\n",
    "\n",
    "\n",
    "barrios_gdf = gpd.GeoDataFrame.from_features(barrios_json)"
   ]
  },
  {
   "cell_type": "markdown",
   "metadata": {},
   "source": [
    "Una vez se ha generado el geodataframe, nos interesa leerlo con pandas para facilitar el trabajo. Para comprobar que esta acción se ha realizado correctamente llamamos a `barrios_df` y en la ejecución se nos muestra el dataframe que resulta. De esta forma ya tenemos un primer vistazo en crudo de nuestros datos.\n",
    "\n",
    " Esta acción se realiza en la celda de abajo:"
   ]
  },
  {
   "cell_type": "code",
   "execution_count": 77,
   "metadata": {},
   "outputs": [
    {
     "data": {
      "text/html": [
       "<div>\n",
       "<style scoped>\n",
       "    .dataframe tbody tr th:only-of-type {\n",
       "        vertical-align: middle;\n",
       "    }\n",
       "\n",
       "    .dataframe tbody tr th {\n",
       "        vertical-align: top;\n",
       "    }\n",
       "\n",
       "    .dataframe thead th {\n",
       "        text-align: right;\n",
       "    }\n",
       "</style>\n",
       "<table border=\"1\" class=\"dataframe\">\n",
       "  <thead>\n",
       "    <tr style=\"text-align: right;\">\n",
       "      <th></th>\n",
       "      <th>geometry</th>\n",
       "      <th>coddistrit</th>\n",
       "      <th>gis_gis_barrios_area</th>\n",
       "      <th>object_id_barrio</th>\n",
       "      <th>linkid</th>\n",
       "      <th>codbarrio</th>\n",
       "      <th>coddistbar</th>\n",
       "      <th>geo_point_2d</th>\n",
       "      <th>nombre_barrio</th>\n",
       "      <th>last_edited_user</th>\n",
       "      <th>...</th>\n",
       "      <th>num_colegios</th>\n",
       "      <th>id_caract_num_colegios</th>\n",
       "      <th>num_chargestations</th>\n",
       "      <th>id_caract_num_chargestations</th>\n",
       "      <th>pm25</th>\n",
       "      <th>id_caract_pm25</th>\n",
       "      <th>num_contenedores</th>\n",
       "      <th>id_caract_num_contenedores</th>\n",
       "      <th>num_transporte</th>\n",
       "      <th>id_caract_num_transporte</th>\n",
       "    </tr>\n",
       "  </thead>\n",
       "  <tbody>\n",
       "    <tr>\n",
       "      <th>0</th>\n",
       "      <td>POLYGON ((-0.33459 39.45478, -0.33326 39.45487...</td>\n",
       "      <td>11</td>\n",
       "      <td>917112.56250</td>\n",
       "      <td>62</td>\n",
       "      <td>0</td>\n",
       "      <td>5</td>\n",
       "      <td>115</td>\n",
       "      <td>[39.44628964870906, -0.3326600366971329]</td>\n",
       "      <td>NATZARET</td>\n",
       "      <td>None</td>\n",
       "      <td>...</td>\n",
       "      <td>6.0</td>\n",
       "      <td>2</td>\n",
       "      <td>NaN</td>\n",
       "      <td>8</td>\n",
       "      <td>10.0</td>\n",
       "      <td>5</td>\n",
       "      <td>184.0</td>\n",
       "      <td>7</td>\n",
       "      <td>11.0</td>\n",
       "      <td>1</td>\n",
       "    </tr>\n",
       "    <tr>\n",
       "      <th>1</th>\n",
       "      <td>POLYGON ((-0.38124 39.45463, -0.38281 39.44951...</td>\n",
       "      <td>9</td>\n",
       "      <td>374887.53125</td>\n",
       "      <td>63</td>\n",
       "      <td>0</td>\n",
       "      <td>3</td>\n",
       "      <td>093</td>\n",
       "      <td>[39.45082750748332, -0.3853982961775011]</td>\n",
       "      <td>LA CREU COBERTA</td>\n",
       "      <td>None</td>\n",
       "      <td>...</td>\n",
       "      <td>1.0</td>\n",
       "      <td>2</td>\n",
       "      <td>2.0</td>\n",
       "      <td>8</td>\n",
       "      <td>21.0</td>\n",
       "      <td>5</td>\n",
       "      <td>162.0</td>\n",
       "      <td>7</td>\n",
       "      <td>8.0</td>\n",
       "      <td>1</td>\n",
       "    </tr>\n",
       "    <tr>\n",
       "      <th>2</th>\n",
       "      <td>POLYGON ((-0.34709 39.47548, -0.34144 39.47379...</td>\n",
       "      <td>13</td>\n",
       "      <td>NaN</td>\n",
       "      <td>76</td>\n",
       "      <td>0</td>\n",
       "      <td>2</td>\n",
       "      <td>132</td>\n",
       "      <td>[39.47198431553791, -0.3450427029615464]</td>\n",
       "      <td>CIUTAT JARDI</td>\n",
       "      <td>None</td>\n",
       "      <td>...</td>\n",
       "      <td>5.0</td>\n",
       "      <td>2</td>\n",
       "      <td>NaN</td>\n",
       "      <td>8</td>\n",
       "      <td>12.0</td>\n",
       "      <td>5</td>\n",
       "      <td>238.0</td>\n",
       "      <td>7</td>\n",
       "      <td>10.0</td>\n",
       "      <td>1</td>\n",
       "    </tr>\n",
       "    <tr>\n",
       "      <th>3</th>\n",
       "      <td>POLYGON ((-0.28767 39.55682, -0.28829 39.55654...</td>\n",
       "      <td>17</td>\n",
       "      <td>NaN</td>\n",
       "      <td>601</td>\n",
       "      <td>18</td>\n",
       "      <td>5</td>\n",
       "      <td>175</td>\n",
       "      <td>[39.55880504953868, -0.3031699565111558]</td>\n",
       "      <td>RAFALELL-VISTABELLA</td>\n",
       "      <td>None</td>\n",
       "      <td>...</td>\n",
       "      <td>NaN</td>\n",
       "      <td>2</td>\n",
       "      <td>NaN</td>\n",
       "      <td>8</td>\n",
       "      <td>12.0</td>\n",
       "      <td>5</td>\n",
       "      <td>NaN</td>\n",
       "      <td>7</td>\n",
       "      <td>NaN</td>\n",
       "      <td>1</td>\n",
       "    </tr>\n",
       "    <tr>\n",
       "      <th>4</th>\n",
       "      <td>POLYGON ((-0.33151 39.48561, -0.33254 39.48046...</td>\n",
       "      <td>13</td>\n",
       "      <td>NaN</td>\n",
       "      <td>137</td>\n",
       "      <td>0</td>\n",
       "      <td>5</td>\n",
       "      <td>135</td>\n",
       "      <td>[39.48035805242704, -0.3410905938386986]</td>\n",
       "      <td>LA CARRASCA</td>\n",
       "      <td>None</td>\n",
       "      <td>...</td>\n",
       "      <td>10.0</td>\n",
       "      <td>2</td>\n",
       "      <td>NaN</td>\n",
       "      <td>8</td>\n",
       "      <td>12.0</td>\n",
       "      <td>5</td>\n",
       "      <td>237.0</td>\n",
       "      <td>7</td>\n",
       "      <td>21.0</td>\n",
       "      <td>1</td>\n",
       "    </tr>\n",
       "    <tr>\n",
       "      <th>...</th>\n",
       "      <td>...</td>\n",
       "      <td>...</td>\n",
       "      <td>...</td>\n",
       "      <td>...</td>\n",
       "      <td>...</td>\n",
       "      <td>...</td>\n",
       "      <td>...</td>\n",
       "      <td>...</td>\n",
       "      <td>...</td>\n",
       "      <td>...</td>\n",
       "      <td>...</td>\n",
       "      <td>...</td>\n",
       "      <td>...</td>\n",
       "      <td>...</td>\n",
       "      <td>...</td>\n",
       "      <td>...</td>\n",
       "      <td>...</td>\n",
       "      <td>...</td>\n",
       "      <td>...</td>\n",
       "      <td>...</td>\n",
       "      <td>...</td>\n",
       "    </tr>\n",
       "    <tr>\n",
       "      <th>83</th>\n",
       "      <td>POLYGON ((-0.39047 39.47825, -0.38996 39.47754...</td>\n",
       "      <td>3</td>\n",
       "      <td>496668.75000</td>\n",
       "      <td>28</td>\n",
       "      <td>0</td>\n",
       "      <td>3</td>\n",
       "      <td>033</td>\n",
       "      <td>[39.473565513491664, -0.39098170775459257]</td>\n",
       "      <td>LA PETXINA</td>\n",
       "      <td>None</td>\n",
       "      <td>...</td>\n",
       "      <td>11.0</td>\n",
       "      <td>2</td>\n",
       "      <td>NaN</td>\n",
       "      <td>8</td>\n",
       "      <td>12.0</td>\n",
       "      <td>5</td>\n",
       "      <td>279.0</td>\n",
       "      <td>7</td>\n",
       "      <td>14.0</td>\n",
       "      <td>1</td>\n",
       "    </tr>\n",
       "    <tr>\n",
       "      <th>84</th>\n",
       "      <td>POLYGON ((-0.37567 39.47381, -0.37423 39.47351...</td>\n",
       "      <td>1</td>\n",
       "      <td>438658.31250</td>\n",
       "      <td>37</td>\n",
       "      <td>0</td>\n",
       "      <td>6</td>\n",
       "      <td>016</td>\n",
       "      <td>[39.47010643870186, -0.3760489821791233]</td>\n",
       "      <td>SANT FRANCESC</td>\n",
       "      <td>None</td>\n",
       "      <td>...</td>\n",
       "      <td>2.0</td>\n",
       "      <td>2</td>\n",
       "      <td>2.0</td>\n",
       "      <td>8</td>\n",
       "      <td>12.0</td>\n",
       "      <td>5</td>\n",
       "      <td>580.0</td>\n",
       "      <td>7</td>\n",
       "      <td>27.0</td>\n",
       "      <td>1</td>\n",
       "    </tr>\n",
       "    <tr>\n",
       "      <th>85</th>\n",
       "      <td>POLYGON ((-0.35018 39.42223, -0.35011 39.42227...</td>\n",
       "      <td>19</td>\n",
       "      <td>NaN</td>\n",
       "      <td>249</td>\n",
       "      <td>0</td>\n",
       "      <td>3</td>\n",
       "      <td>193</td>\n",
       "      <td>[39.406290326215334, -0.33967854582733203]</td>\n",
       "      <td>PINEDO</td>\n",
       "      <td>None</td>\n",
       "      <td>...</td>\n",
       "      <td>2.0</td>\n",
       "      <td>2</td>\n",
       "      <td>NaN</td>\n",
       "      <td>8</td>\n",
       "      <td>10.0</td>\n",
       "      <td>5</td>\n",
       "      <td>185.0</td>\n",
       "      <td>7</td>\n",
       "      <td>14.0</td>\n",
       "      <td>1</td>\n",
       "    </tr>\n",
       "    <tr>\n",
       "      <th>86</th>\n",
       "      <td>POLYGON ((-0.36720 39.50425, -0.36767 39.50338...</td>\n",
       "      <td>15</td>\n",
       "      <td>NaN</td>\n",
       "      <td>201</td>\n",
       "      <td>0</td>\n",
       "      <td>1</td>\n",
       "      <td>151</td>\n",
       "      <td>[39.494312122911424, -0.3699310988383476]</td>\n",
       "      <td>ELS ORRIOLS</td>\n",
       "      <td>None</td>\n",
       "      <td>...</td>\n",
       "      <td>9.0</td>\n",
       "      <td>2</td>\n",
       "      <td>NaN</td>\n",
       "      <td>8</td>\n",
       "      <td>NaN</td>\n",
       "      <td>5</td>\n",
       "      <td>214.0</td>\n",
       "      <td>7</td>\n",
       "      <td>21.0</td>\n",
       "      <td>1</td>\n",
       "    </tr>\n",
       "    <tr>\n",
       "      <th>87</th>\n",
       "      <td>POLYGON ((-0.35839 39.45904, -0.35801 39.45867...</td>\n",
       "      <td>10</td>\n",
       "      <td>540119.62500</td>\n",
       "      <td>57</td>\n",
       "      <td>0</td>\n",
       "      <td>5</td>\n",
       "      <td>105</td>\n",
       "      <td>[39.45287103221434, -0.3659376655648462]</td>\n",
       "      <td>NA ROVELLA</td>\n",
       "      <td>None</td>\n",
       "      <td>...</td>\n",
       "      <td>7.0</td>\n",
       "      <td>2</td>\n",
       "      <td>NaN</td>\n",
       "      <td>8</td>\n",
       "      <td>21.0</td>\n",
       "      <td>5</td>\n",
       "      <td>192.0</td>\n",
       "      <td>7</td>\n",
       "      <td>15.0</td>\n",
       "      <td>1</td>\n",
       "    </tr>\n",
       "  </tbody>\n",
       "</table>\n",
       "<p>88 rows × 27 columns</p>\n",
       "</div>"
      ],
      "text/plain": [
       "                                             geometry coddistrit  \\\n",
       "0   POLYGON ((-0.33459 39.45478, -0.33326 39.45487...         11   \n",
       "1   POLYGON ((-0.38124 39.45463, -0.38281 39.44951...          9   \n",
       "2   POLYGON ((-0.34709 39.47548, -0.34144 39.47379...         13   \n",
       "3   POLYGON ((-0.28767 39.55682, -0.28829 39.55654...         17   \n",
       "4   POLYGON ((-0.33151 39.48561, -0.33254 39.48046...         13   \n",
       "..                                                ...        ...   \n",
       "83  POLYGON ((-0.39047 39.47825, -0.38996 39.47754...          3   \n",
       "84  POLYGON ((-0.37567 39.47381, -0.37423 39.47351...          1   \n",
       "85  POLYGON ((-0.35018 39.42223, -0.35011 39.42227...         19   \n",
       "86  POLYGON ((-0.36720 39.50425, -0.36767 39.50338...         15   \n",
       "87  POLYGON ((-0.35839 39.45904, -0.35801 39.45867...         10   \n",
       "\n",
       "    gis_gis_barrios_area  object_id_barrio  linkid codbarrio coddistbar  \\\n",
       "0           917112.56250                62       0         5        115   \n",
       "1           374887.53125                63       0         3        093   \n",
       "2                    NaN                76       0         2        132   \n",
       "3                    NaN               601      18         5        175   \n",
       "4                    NaN               137       0         5        135   \n",
       "..                   ...               ...     ...       ...        ...   \n",
       "83          496668.75000                28       0         3        033   \n",
       "84          438658.31250                37       0         6        016   \n",
       "85                   NaN               249       0         3        193   \n",
       "86                   NaN               201       0         1        151   \n",
       "87          540119.62500                57       0         5        105   \n",
       "\n",
       "                                  geo_point_2d        nombre_barrio  \\\n",
       "0     [39.44628964870906, -0.3326600366971329]             NATZARET   \n",
       "1     [39.45082750748332, -0.3853982961775011]      LA CREU COBERTA   \n",
       "2     [39.47198431553791, -0.3450427029615464]         CIUTAT JARDI   \n",
       "3     [39.55880504953868, -0.3031699565111558]  RAFALELL-VISTABELLA   \n",
       "4     [39.48035805242704, -0.3410905938386986]          LA CARRASCA   \n",
       "..                                         ...                  ...   \n",
       "83  [39.473565513491664, -0.39098170775459257]           LA PETXINA   \n",
       "84    [39.47010643870186, -0.3760489821791233]        SANT FRANCESC   \n",
       "85  [39.406290326215334, -0.33967854582733203]               PINEDO   \n",
       "86   [39.494312122911424, -0.3699310988383476]          ELS ORRIOLS   \n",
       "87    [39.45287103221434, -0.3659376655648462]           NA ROVELLA   \n",
       "\n",
       "   last_edited_user  ... num_colegios  id_caract_num_colegios  \\\n",
       "0              None  ...          6.0                       2   \n",
       "1              None  ...          1.0                       2   \n",
       "2              None  ...          5.0                       2   \n",
       "3              None  ...          NaN                       2   \n",
       "4              None  ...         10.0                       2   \n",
       "..              ...  ...          ...                     ...   \n",
       "83             None  ...         11.0                       2   \n",
       "84             None  ...          2.0                       2   \n",
       "85             None  ...          2.0                       2   \n",
       "86             None  ...          9.0                       2   \n",
       "87             None  ...          7.0                       2   \n",
       "\n",
       "    num_chargestations  id_caract_num_chargestations  pm25  id_caract_pm25  \\\n",
       "0                  NaN                             8  10.0               5   \n",
       "1                  2.0                             8  21.0               5   \n",
       "2                  NaN                             8  12.0               5   \n",
       "3                  NaN                             8  12.0               5   \n",
       "4                  NaN                             8  12.0               5   \n",
       "..                 ...                           ...   ...             ...   \n",
       "83                 NaN                             8  12.0               5   \n",
       "84                 2.0                             8  12.0               5   \n",
       "85                 NaN                             8  10.0               5   \n",
       "86                 NaN                             8   NaN               5   \n",
       "87                 NaN                             8  21.0               5   \n",
       "\n",
       "    num_contenedores  id_caract_num_contenedores  num_transporte  \\\n",
       "0              184.0                           7            11.0   \n",
       "1              162.0                           7             8.0   \n",
       "2              238.0                           7            10.0   \n",
       "3                NaN                           7             NaN   \n",
       "4              237.0                           7            21.0   \n",
       "..               ...                         ...             ...   \n",
       "83             279.0                           7            14.0   \n",
       "84             580.0                           7            27.0   \n",
       "85             185.0                           7            14.0   \n",
       "86             214.0                           7            21.0   \n",
       "87             192.0                           7            15.0   \n",
       "\n",
       "    id_caract_num_transporte  \n",
       "0                          1  \n",
       "1                          1  \n",
       "2                          1  \n",
       "3                          1  \n",
       "4                          1  \n",
       "..                       ...  \n",
       "83                         1  \n",
       "84                         1  \n",
       "85                         1  \n",
       "86                         1  \n",
       "87                         1  \n",
       "\n",
       "[88 rows x 27 columns]"
      ]
     },
     "execution_count": 77,
     "metadata": {},
     "output_type": "execute_result"
    }
   ],
   "source": [
    "barrios_df = pd.DataFrame(barrios_gdf)\n",
    "\n",
    "barrios_df"
   ]
  },
  {
   "cell_type": "markdown",
   "metadata": {},
   "source": [
    "## 2. Exploración\n",
    "\n",
    "En esta fase se miran los datos con más detenimiento. En nuestro caso vamos a ver el número de nulos que hay en el dataframe y las columnas con las que nos interesa quedarnos y cuales podríamos eliminar.\n",
    "\n",
    "Para poder ver el número de nulos de una manera visual, a continuación se implementa la función `plot_nas`, que en caso de que un dataframe pasado como parámetros haya nulos presentes nos represente sus columnas con la cantidad de nulos en tanto por ciento (%)."
   ]
  },
  {
   "cell_type": "code",
   "execution_count": 78,
   "metadata": {},
   "outputs": [],
   "source": [
    "def plot_nas(df: pd.DataFrame):\n",
    "    if df.isnull().sum().sum() != 0:\n",
    "        na_df = (df.isnull().sum() / len(df)) * 100      \n",
    "        na_df = na_df.drop(na_df[na_df == 0].index).sort_values(ascending=False)\n",
    "        missing_data = pd.DataFrame({'Missing Ratio %' :na_df})\n",
    "        missing_data.plot(kind = \"barh\")\n",
    "        plt.show()\n",
    "    else:\n",
    "        print('No NAs found')"
   ]
  },
  {
   "cell_type": "markdown",
   "metadata": {},
   "source": [
    "### 2.1 Exploración de columnas"
   ]
  },
  {
   "cell_type": "code",
   "execution_count": 79,
   "metadata": {},
   "outputs": [
    {
     "data": {
      "text/plain": [
       "Index(['geometry', 'coddistrit', 'gis_gis_barrios_area', 'object_id_barrio',\n",
       "       'linkid', 'codbarrio', 'coddistbar', 'geo_point_2d', 'nombre_barrio',\n",
       "       'last_edited_user', 'last_edited_date', '%_zona_verde',\n",
       "       'id_caract_%_zona_verde', 'nivel_acustico', 'id_caract_nivel_acustico',\n",
       "       'num_hospitales', 'id_caract_num_hospitales', 'num_colegios',\n",
       "       'id_caract_num_colegios', 'num_chargestations',\n",
       "       'id_caract_num_chargestations', 'pm25', 'id_caract_pm25',\n",
       "       'num_contenedores', 'id_caract_num_contenedores', 'num_transporte',\n",
       "       'id_caract_num_transporte'],\n",
       "      dtype='object')"
      ]
     },
     "execution_count": 79,
     "metadata": {},
     "output_type": "execute_result"
    }
   ],
   "source": [
    "barrios_df.columns"
   ]
  },
  {
   "cell_type": "markdown",
   "metadata": {},
   "source": [
    "### 2.2 Exploración de nulos"
   ]
  },
  {
   "cell_type": "code",
   "execution_count": 80,
   "metadata": {},
   "outputs": [
    {
     "data": {
      "image/png": "[encoded data removed]",
      "text/plain": [
       "<Figure size 640x480 with 1 Axes>"
      ]
     },
     "metadata": {},
     "output_type": "display_data"
    }
   ],
   "source": [
    "plot_nas(barrios_df) "
   ]
  },
  {
   "cell_type": "markdown",
   "metadata": {},
   "source": [
    "### 2.3 Conclusión\n",
    "\n",
    "Atendiendo al gráfico anterior y a las columnas que componen el dataframe vemos que `last_edited_user` y `last_edited_date` tienen casi un 100% de datos nulos, por tanto, son candidatatas a ser eliminadas.\n",
    "\n",
    "En nuestro caso, se utiliza como identificativo único de cada barrio la columna de `object_id_barrio`, por lo que el resto de columnas identificativas se pueden eliminar al no tener ninguna relación con otros datos dentro de nuestro proyecto (`coddistrit`, `linkid`, `codbarrio`, `coddistbar`).\n",
    "\n",
    "Por último, otra columna que tiene muchos nulos es la de `gis_gis_barrios_area`, además de que en nuestro main de python abordamos la tarea de calcular las areas de cada barrio para su representación. Por tanto también es candidata para ser eliminada.\n"
   ]
  },
  {
   "cell_type": "markdown",
   "metadata": {},
   "source": [
    "## 3. Eliminación de columnas y filas\n",
    "\n",
    "Atendiendo a las conclusiones anteriores barramos las columnas mencionadas mediante el método drop() de pandas y comprobamos las columnas del dataframe para ver que han sido eliminadas correctamente."
   ]
  },
  {
   "cell_type": "code",
   "execution_count": 81,
   "metadata": {},
   "outputs": [
    {
     "data": {
      "text/plain": [
       "Index(['geometry', 'object_id_barrio', 'geo_point_2d', 'nombre_barrio',\n",
       "       '%_zona_verde', 'id_caract_%_zona_verde', 'nivel_acustico',\n",
       "       'id_caract_nivel_acustico', 'num_hospitales',\n",
       "       'id_caract_num_hospitales', 'num_colegios', 'id_caract_num_colegios',\n",
       "       'num_chargestations', 'id_caract_num_chargestations', 'pm25',\n",
       "       'id_caract_pm25', 'num_contenedores', 'id_caract_num_contenedores',\n",
       "       'num_transporte', 'id_caract_num_transporte'],\n",
       "      dtype='object')"
      ]
     },
     "execution_count": 81,
     "metadata": {},
     "output_type": "execute_result"
    }
   ],
   "source": [
    "barrios_df = barrios_df.drop(['coddistrit', 'linkid', 'codbarrio', 'coddistbar', 'last_edited_user', 'last_edited_date', 'gis_gis_barrios_area'], axis = 1)\n",
    "\n",
    "barrios_df.columns\n"
   ]
  },
  {
   "cell_type": "markdown",
   "metadata": {},
   "source": [
    "Para la eliminación de las filas, establecemos el criterio de quedarnos con los barrios del núcleo úrbano de Valencia. Con lo que descarteremos los barrios de extraradio del sur de la ciudad.\n",
    "En la siguiente celda de código se especifican las filas de los barrios a eliminar y accediendo a las dimensiones del dataframe con `shape` comprobamos si se han eliminado las filas del datframe."
   ]
  },
  {
   "cell_type": "code",
   "execution_count": 82,
   "metadata": {},
   "outputs": [
    {
     "data": {
      "text/plain": [
       "(80, 20)"
      ]
     },
     "execution_count": 82,
     "metadata": {},
     "output_type": "execute_result"
    }
   ],
   "source": [
    "blacklist = ['EL PALMAR', 'EL PERELLONET', 'EL SALER', 'PINEDO', 'LES CASES DE BARCENA', 'MASSARROJOS', 'MAHUELLA-TAULADELLA', 'RAFALELL-VISTABELLA']\n",
    "\n",
    "for i in blacklist:\n",
    "    barrios_df = barrios_df.drop(barrios_df.loc[barrios_df['nombre_barrio'] == i].index)\n",
    "\n",
    "\n",
    "barrios_df.shape"
   ]
  },
  {
   "cell_type": "markdown",
   "metadata": {},
   "source": [
    "Para una comprobación más precisa, si ahora trataramos de acceder a la fila del barrio de PINEDO no nos debería aperecer ninguna información."
   ]
  },
  {
   "cell_type": "code",
   "execution_count": 83,
   "metadata": {},
   "outputs": [
    {
     "data": {
      "text/html": [
       "<div>\n",
       "<style scoped>\n",
       "    .dataframe tbody tr th:only-of-type {\n",
       "        vertical-align: middle;\n",
       "    }\n",
       "\n",
       "    .dataframe tbody tr th {\n",
       "        vertical-align: top;\n",
       "    }\n",
       "\n",
       "    .dataframe thead th {\n",
       "        text-align: right;\n",
       "    }\n",
       "</style>\n",
       "<table border=\"1\" class=\"dataframe\">\n",
       "  <thead>\n",
       "    <tr style=\"text-align: right;\">\n",
       "      <th></th>\n",
       "      <th>geometry</th>\n",
       "      <th>object_id_barrio</th>\n",
       "      <th>geo_point_2d</th>\n",
       "      <th>nombre_barrio</th>\n",
       "      <th>%_zona_verde</th>\n",
       "      <th>id_caract_%_zona_verde</th>\n",
       "      <th>nivel_acustico</th>\n",
       "      <th>id_caract_nivel_acustico</th>\n",
       "      <th>num_hospitales</th>\n",
       "      <th>id_caract_num_hospitales</th>\n",
       "      <th>num_colegios</th>\n",
       "      <th>id_caract_num_colegios</th>\n",
       "      <th>num_chargestations</th>\n",
       "      <th>id_caract_num_chargestations</th>\n",
       "      <th>pm25</th>\n",
       "      <th>id_caract_pm25</th>\n",
       "      <th>num_contenedores</th>\n",
       "      <th>id_caract_num_contenedores</th>\n",
       "      <th>num_transporte</th>\n",
       "      <th>id_caract_num_transporte</th>\n",
       "    </tr>\n",
       "  </thead>\n",
       "  <tbody>\n",
       "  </tbody>\n",
       "</table>\n",
       "</div>"
      ],
      "text/plain": [
       "Empty DataFrame\n",
       "Columns: [geometry, object_id_barrio, geo_point_2d, nombre_barrio, %_zona_verde, id_caract_%_zona_verde, nivel_acustico, id_caract_nivel_acustico, num_hospitales, id_caract_num_hospitales, num_colegios, id_caract_num_colegios, num_chargestations, id_caract_num_chargestations, pm25, id_caract_pm25, num_contenedores, id_caract_num_contenedores, num_transporte, id_caract_num_transporte]\n",
       "Index: []"
      ]
     },
     "execution_count": 83,
     "metadata": {},
     "output_type": "execute_result"
    }
   ],
   "source": [
    "barrios_df.loc[barrios_df['nombre_barrio'] == 'PINEDO']"
   ]
  },
  {
   "cell_type": "markdown",
   "metadata": {},
   "source": [
    "## 4. Cambio de tipos de datos y tratamiento de nulos\n",
    "\n",
    "Una vez hemos eliminado la información que no nos interesa del dataframe. Tendremos que tratar con los valores que faltan referidos a las caracteristicas almacenadas en el dataframe.\n",
    "\n",
    "Volvemos a llamar a la función que representa la cantidad de nulos para hacernos una idea de lo que hay en este punto.\n",
    "También comprobamos los tipos de datos que tenemos con el método `info()` de pandas.\n",
    "\n",
    "Nótese también que para el numero de estaciones de carga para coche eléctrico (`num_chargestations`) tiene hasta un 80% de valores nulos (ejecutar celda de abajo previamente). Eso se debe a que hay pocos barrios que cuenten con con estas estaciones.\n",
    "Dado este caso resultaría interesante almacenar este valor como `bool` de forma que si hay estaciones en un barrio la celda tenga el valor *True* y si no las hay se almacene como *False*."
   ]
  },
  {
   "cell_type": "code",
   "execution_count": 84,
   "metadata": {},
   "outputs": [
    {
     "data": {
      "image/png": "[encoded data removed]",
      "text/plain": [
       "<Figure size 640x480 with 1 Axes>"
      ]
     },
     "metadata": {},
     "output_type": "display_data"
    },
    {
     "name": "stdout",
     "output_type": "stream",
     "text": [
      "<class 'pandas.core.frame.DataFrame'>\n",
      "Int64Index: 80 entries, 0 to 87\n",
      "Data columns (total 20 columns):\n",
      " #   Column                        Non-Null Count  Dtype   \n",
      "---  ------                        --------------  -----   \n",
      " 0   geometry                      80 non-null     geometry\n",
      " 1   object_id_barrio              80 non-null     int64   \n",
      " 2   geo_point_2d                  80 non-null     object  \n",
      " 3   nombre_barrio                 80 non-null     object  \n",
      " 4   %_zona_verde                  76 non-null     float64 \n",
      " 5   id_caract_%_zona_verde        80 non-null     int64   \n",
      " 6   nivel_acustico                80 non-null     float64 \n",
      " 7   id_caract_nivel_acustico      80 non-null     int64   \n",
      " 8   num_hospitales                44 non-null     float64 \n",
      " 9   id_caract_num_hospitales      80 non-null     int64   \n",
      " 10  num_colegios                  76 non-null     float64 \n",
      " 11  id_caract_num_colegios        80 non-null     int64   \n",
      " 12  num_chargestations            15 non-null     float64 \n",
      " 13  id_caract_num_chargestations  80 non-null     int64   \n",
      " 14  pm25                          53 non-null     float64 \n",
      " 15  id_caract_pm25                80 non-null     int64   \n",
      " 16  num_contenedores              80 non-null     float64 \n",
      " 17  id_caract_num_contenedores    80 non-null     int64   \n",
      " 18  num_transporte                79 non-null     float64 \n",
      " 19  id_caract_num_transporte      80 non-null     int64   \n",
      "dtypes: float64(8), geometry(1), int64(9), object(2)\n",
      "memory usage: 13.1+ KB\n"
     ]
    }
   ],
   "source": [
    "plot_nas(barrios_df)\n",
    "barrios_df.info()"
   ]
  },
  {
   "cell_type": "markdown",
   "metadata": {},
   "source": [
    "Podemos ver que `num_hospitales`, `num_colegios`, `num_chargestations`, `num_contenedores`, `num_transporte` que representan valores discretos, están almacenados como *float64*. La idea con estos valores es convertirlos a enteros (*int64*). Para ello previamente llenamos los valores NaN con un 0 por medio del metodo `fillna()` . Ya que se entiende que si no hay un valor almacenado para una determinada caracteristica de las mencionadas es porque en ese barrio hay 0 puntos referidos a esa caracteristica."
   ]
  },
  {
   "cell_type": "code",
   "execution_count": 85,
   "metadata": {},
   "outputs": [
    {
     "data": {
      "image/png": "[encoded data removed]",
      "text/plain": [
       "<Figure size 640x480 with 1 Axes>"
      ]
     },
     "metadata": {},
     "output_type": "display_data"
    }
   ],
   "source": [
    "myList = ['%_zona_verde', 'num_hospitales', 'num_colegios', 'num_chargestations', 'num_contenedores', 'num_transporte']\n",
    "\n",
    "for i in myList:\n",
    "    barrios_df[i] = barrios_df[i].fillna(0)\n",
    "\n",
    "plot_nas(barrios_df)"
   ]
  },
  {
   "cell_type": "markdown",
   "metadata": {},
   "source": [
    "Una vez hemos rellenado los nulos vemos que la única columna con nulos es el indice de *pm25* que representa el indice de contaminación ambiental y que abordaremos más adelante.\n",
    "\n",
    "Con el código de abajo, realizamos el cambio de los tipos de datos. Como se ha indicado anteriormente las caracteristicas que representan un valor discreto se almacenan como *int64* las que representan valores decimales como *float64* y las estaciones de carga, debido a su escasez se almacena como bool para daterminar la existencia de esta caracteristica en determinado barrio."
   ]
  },
  {
   "cell_type": "code",
   "execution_count": 86,
   "metadata": {},
   "outputs": [
    {
     "name": "stdout",
     "output_type": "stream",
     "text": [
      "<class 'pandas.core.frame.DataFrame'>\n",
      "Int64Index: 80 entries, 0 to 87\n",
      "Data columns (total 20 columns):\n",
      " #   Column                        Non-Null Count  Dtype   \n",
      "---  ------                        --------------  -----   \n",
      " 0   geometry                      80 non-null     geometry\n",
      " 1   object_id_barrio              80 non-null     int64   \n",
      " 2   geo_point_2d                  80 non-null     object  \n",
      " 3   nombre_barrio                 80 non-null     object  \n",
      " 4   %_zona_verde                  80 non-null     float64 \n",
      " 5   id_caract_%_zona_verde        80 non-null     int64   \n",
      " 6   nivel_acustico                80 non-null     float64 \n",
      " 7   id_caract_nivel_acustico      80 non-null     int64   \n",
      " 8   num_hospitales                80 non-null     int64   \n",
      " 9   id_caract_num_hospitales      80 non-null     int64   \n",
      " 10  num_colegios                  80 non-null     int64   \n",
      " 11  id_caract_num_colegios        80 non-null     int64   \n",
      " 12  chargestations                80 non-null     bool    \n",
      " 13  id_caract_num_chargestations  80 non-null     int64   \n",
      " 14  pm25                          53 non-null     float64 \n",
      " 15  id_caract_pm25                80 non-null     int64   \n",
      " 16  num_contenedores              80 non-null     int64   \n",
      " 17  id_caract_num_contenedores    80 non-null     int64   \n",
      " 18  num_transporte                80 non-null     int64   \n",
      " 19  id_caract_num_transporte      80 non-null     int64   \n",
      "dtypes: bool(1), float64(3), geometry(1), int64(13), object(2)\n",
      "memory usage: 12.6+ KB\n"
     ]
    }
   ],
   "source": [
    "# CHANGING DATA TYPES\n",
    "# Los hospitales, colegios, contenedores, estaciones de transporte son valores discretos que en nuestro df vienen como float64. Los cambiamos a int64\n",
    "\n",
    "myList = ['num_hospitales', 'num_colegios', 'num_contenedores', 'num_transporte']\n",
    "\n",
    "for i in myList:\n",
    "    barrios_df[i] = barrios_df[i].astype('int64')\n",
    "\n",
    "# Las estaciones de carga (num_chargestations) están presentes en muy pocos barrios. Por tanto nos interesa ver en qué barrios están presentes estas. Para ello haremos que la columna num_chargestations sea bool. De forma que\n",
    "# indique True, cuando un barrio tiene estaciones de carga y False cuando no. Le cambiamos el nobre a la columna num_chargestations por chargestations para no indicar el nombre de la columna que es un número\n",
    "\n",
    "barrios_df['num_chargestations'] = barrios_df['num_chargestations'].astype('bool')\n",
    "barrios_df = barrios_df.rename(columns = {'num_chargestations' : 'chargestations'}) # Le cambiamos el nombre a la columna, porque esta ya no va arepresentar un número\n",
    "\n",
    "barrios_df.info() # Comprobamos que se han cambiado correctamente los tipos de datos con el metodo .info()\n",
    "\n"
   ]
  },
  {
   "cell_type": "markdown",
   "metadata": {},
   "source": [
    "Como resultado de la ejecución del código anterior comprobamos que el cambio de tipo de datos se ha realizado correctamente.\n",
    "\n",
    "También se puede comprobar que los valores almacenados para las estaciones de carga son *True* cuando hay estaciones de carag en un barrio y *False* cuando no:"
   ]
  },
  {
   "cell_type": "code",
   "execution_count": 87,
   "metadata": {},
   "outputs": [
    {
     "data": {
      "text/html": [
       "<div>\n",
       "<style scoped>\n",
       "    .dataframe tbody tr th:only-of-type {\n",
       "        vertical-align: middle;\n",
       "    }\n",
       "\n",
       "    .dataframe tbody tr th {\n",
       "        vertical-align: top;\n",
       "    }\n",
       "\n",
       "    .dataframe thead th {\n",
       "        text-align: right;\n",
       "    }\n",
       "</style>\n",
       "<table border=\"1\" class=\"dataframe\">\n",
       "  <thead>\n",
       "    <tr style=\"text-align: right;\">\n",
       "      <th></th>\n",
       "      <th>nombre_barrio</th>\n",
       "      <th>chargestations</th>\n",
       "    </tr>\n",
       "  </thead>\n",
       "  <tbody>\n",
       "    <tr>\n",
       "      <th>0</th>\n",
       "      <td>NATZARET</td>\n",
       "      <td>False</td>\n",
       "    </tr>\n",
       "    <tr>\n",
       "      <th>1</th>\n",
       "      <td>LA CREU COBERTA</td>\n",
       "      <td>True</td>\n",
       "    </tr>\n",
       "    <tr>\n",
       "      <th>2</th>\n",
       "      <td>CIUTAT JARDI</td>\n",
       "      <td>False</td>\n",
       "    </tr>\n",
       "    <tr>\n",
       "      <th>4</th>\n",
       "      <td>LA CARRASCA</td>\n",
       "      <td>False</td>\n",
       "    </tr>\n",
       "    <tr>\n",
       "      <th>7</th>\n",
       "      <td>SANT LLORENS</td>\n",
       "      <td>False</td>\n",
       "    </tr>\n",
       "    <tr>\n",
       "      <th>...</th>\n",
       "      <td>...</td>\n",
       "      <td>...</td>\n",
       "    </tr>\n",
       "    <tr>\n",
       "      <th>82</th>\n",
       "      <td>BENICALAP</td>\n",
       "      <td>False</td>\n",
       "    </tr>\n",
       "    <tr>\n",
       "      <th>83</th>\n",
       "      <td>LA PETXINA</td>\n",
       "      <td>False</td>\n",
       "    </tr>\n",
       "    <tr>\n",
       "      <th>84</th>\n",
       "      <td>SANT FRANCESC</td>\n",
       "      <td>True</td>\n",
       "    </tr>\n",
       "    <tr>\n",
       "      <th>86</th>\n",
       "      <td>ELS ORRIOLS</td>\n",
       "      <td>False</td>\n",
       "    </tr>\n",
       "    <tr>\n",
       "      <th>87</th>\n",
       "      <td>NA ROVELLA</td>\n",
       "      <td>False</td>\n",
       "    </tr>\n",
       "  </tbody>\n",
       "</table>\n",
       "<p>80 rows × 2 columns</p>\n",
       "</div>"
      ],
      "text/plain": [
       "      nombre_barrio  chargestations\n",
       "0          NATZARET           False\n",
       "1   LA CREU COBERTA            True\n",
       "2      CIUTAT JARDI           False\n",
       "4       LA CARRASCA           False\n",
       "7      SANT LLORENS           False\n",
       "..              ...             ...\n",
       "82        BENICALAP           False\n",
       "83       LA PETXINA           False\n",
       "84    SANT FRANCESC            True\n",
       "86      ELS ORRIOLS           False\n",
       "87       NA ROVELLA           False\n",
       "\n",
       "[80 rows x 2 columns]"
      ]
     },
     "execution_count": 87,
     "metadata": {},
     "output_type": "execute_result"
    }
   ],
   "source": [
    "barrios_df[['nombre_barrio','chargestations']]"
   ]
  },
  {
   "cell_type": "markdown",
   "metadata": {},
   "source": [
    "Por último, nos queda tratar con los nulos de la característica *pm25*.\n",
    "\n",
    "Primero, vamos a ver para qué barrios falta este valor:"
   ]
  },
  {
   "cell_type": "code",
   "execution_count": 88,
   "metadata": {},
   "outputs": [
    {
     "name": "stdout",
     "output_type": "stream",
     "text": [
      "(27, 20)\n"
     ]
    },
    {
     "data": {
      "text/plain": [
       "7             SANT LLORENS\n",
       "10                 CARPESA\n",
       "12              BENIFARAIG\n",
       "14                EL CARME\n",
       "15               EXPOSICIO\n",
       "16                MESTALLA\n",
       "25              JAUME ROIG\n",
       "27          SANT MARCEL.LI\n",
       "29                  LA SEU\n",
       "35               TORREFIEL\n",
       "36                  TORMOS\n",
       "37                TRINITAT\n",
       "38            LES TENDETES\n",
       "47               POBLE NOU\n",
       "50                LA TORRE\n",
       "51                FAITANAR\n",
       "52        EL FORN D'ALCEDO\n",
       "54                  FAVARA\n",
       "55       L'HORT DE SENABRE\n",
       "56               CAMI REAL\n",
       "65           LA MALVA-ROSA\n",
       "67             SANT ANTONI\n",
       "68              BENIMACLET\n",
       "69              MARXALENES\n",
       "70                MORVEDRE\n",
       "71    CIUTAT UNIVERSITARIA\n",
       "86             ELS ORRIOLS\n",
       "Name: nombre_barrio, dtype: object"
      ]
     },
     "execution_count": 88,
     "metadata": {},
     "output_type": "execute_result"
    }
   ],
   "source": [
    "print(barrios_df.loc[barrios_df['pm25'].isna()].shape)\n",
    "barrios_df.loc[barrios_df['pm25'].isna()]['nombre_barrio']"
   ]
  },
  {
   "cell_type": "markdown",
   "metadata": {},
   "source": [
    "Con la celda de código anterior vemos para que barrios falta el *pm25* y cuantos barrios son en total con shape (27).\n",
    "\n",
    "El método que hemos pensado para eliminar los nulls de este valor consiste en agrupar los barrios para los que falta el *pm25* según en qué zona de valencia se encuentran ( Ennorte, centro, sur o este) y le asignamos el indice de *pm25* conocido de un barrio que pertenzca a dicha zona. En este caso los indices de *pm25* escogidos son:\n",
    "\n",
    "* **Norte**: Escogemos cómo referencia el *pm25* del barrio BENIMAMET.\n",
    "* **Centro**: Escogemos cómo referencia el *pm25* del barrio EL PLA DEL REMEI.\n",
    "* **Sur**: Escogemos cómo referencia el *pm25* del barrio MALILLA.\n",
    "* **Este**: Escogemos cómo referencia el *pm25* del barrio CABANYAL-CANYAMELAR."
   ]
  },
  {
   "cell_type": "code",
   "execution_count": 89,
   "metadata": {},
   "outputs": [],
   "source": [
    "\n",
    "# Agrupar por zonas en los que falte pm25 y asignar pm25 de barrios colindantes\n",
    "\n",
    "# Estos son  los barrios donde falta el pm25 agrupados por su localización\n",
    "NORTE = ['SANT LLORENS', 'CARPESA', 'BENIFARAIG', 'TORREFIEL', 'TORMOS', 'POBLE NOU', 'SANT ANTONI', 'BENIMACLET', 'MARXALENES', 'ELS ORRIOLS']\n",
    "CENTRO = ['EL CARME', 'EXPOSICIO', 'MESTALLA', 'LA SEU', 'JAUME ROIG', 'TRINITAT', 'LES TENDETES', 'MORVEDRE', 'CIUTAT UNIVERSITARIA']\n",
    "SUR = [\"SANT MARCEL.LI\", \"LA TORRE\", \"FAITANAR\", \"EL FORN D'ALCEDO\", \"FAVARA\", \"L'HORT DE SENABRE\", \"CAMI REAL\"]\n",
    "ESTE = ['LA MALVA-ROSA']\n",
    "\n",
    "# Para rellenar estos valores asignaremos un indice de pm25 conocido de un barrio que pertenezca a una zona determinada. Por ejemplo, para los barrios del norte cogemos el pm25 de \n",
    "# un barrio del norte y lo ponemos para el resto de barrios de la lista que no tienen pm25\n",
    "\n",
    "# Almacenamos los valores de pm25 para los barrios de cada zona\n",
    "pm25_norte = int(barrios_df.loc[barrios_df['nombre_barrio'] == 'BENIMAMET']['pm25'])\n",
    "pm25_centro = int(barrios_df.loc[barrios_df['nombre_barrio'] == 'EL PLA DEL REMEI']['pm25'])\n",
    "pm25_sur = int(barrios_df.loc[barrios_df['nombre_barrio'] == 'MALILLA']['pm25'])\n",
    "pm25_este = int(barrios_df.loc[barrios_df['nombre_barrio'] == 'CABANYAL-CANYAMELAR']['pm25'])\n",
    " \n",
    "    \n"
   ]
  },
  {
   "cell_type": "code",
   "execution_count": 90,
   "metadata": {},
   "outputs": [
    {
     "data": {
      "text/plain": [
       "array([['NATZARET', 10.0],\n",
       "       ['LA CREU COBERTA', 21.0],\n",
       "       ['CIUTAT JARDI', 12.0],\n",
       "       ['LA CARRASCA', 12.0],\n",
       "       ['SANT LLORENS', 26.0],\n",
       "       ['VARA DE QUART', 7.0],\n",
       "       ['SOTERNES', 17.0],\n",
       "       ['CARPESA', 26.0],\n",
       "       ['EL BOTANIC', 12.0],\n",
       "       ['BENIFARAIG', 26.0],\n",
       "       ['EL CALVARI', 26.0],\n",
       "       ['EL CARME', 12.0],\n",
       "       ['EXPOSICIO', 12.0],\n",
       "       ['MESTALLA', 12.0],\n",
       "       ['LA XEREA', 12.0],\n",
       "       ['ALBORS', 10.0],\n",
       "       ['ARRANCAPINS', 21.0],\n",
       "       ['PATRAIX', 7.0],\n",
       "       ['RUSSAFA', 21.0],\n",
       "       ['SAFRANAR', 7.0],\n",
       "       ['EN CORTS', 21.0],\n",
       "       ['JAUME ROIG', 12.0],\n",
       "       ['PENYA-ROJA', 10.0],\n",
       "       ['SANT MARCEL.LI', 21.0],\n",
       "       [\"CASTELLAR-L'OLIVERAL\", 21.0],\n",
       "       ['LA SEU', 12.0],\n",
       "       ['MONTOLIVET', 21.0],\n",
       "       ['LA FONTETA S.LLUIS', 21.0],\n",
       "       ['EL GRAU', 10.0],\n",
       "       ['CAMI DE VERA', 12.0],\n",
       "       ['LA LLUM', 17.0],\n",
       "       ['TORREFIEL', 26.0],\n",
       "       ['TORMOS', 26.0],\n",
       "       ['TRINITAT', 12.0],\n",
       "       ['LES TENDETES', 12.0],\n",
       "       ['CAMPANAR', 26.0],\n",
       "       ['CABANYAL-CANYAMELAR', 14.0],\n",
       "       ['EL MERCAT', 12.0],\n",
       "       ['EL PILAR', 12.0],\n",
       "       [\"L'ILLA PERDUDA\", 14.0],\n",
       "       ['LA ROQUETA', 12.0],\n",
       "       ['LA RAIOSA', 21.0],\n",
       "       ['SANT ISIDRE', 7.0],\n",
       "       ['POBLE NOU', 26.0],\n",
       "       ['SANT PAU', 26.0],\n",
       "       ['LA TORRE', 21.0],\n",
       "       ['FAITANAR', 21.0],\n",
       "       [\"EL FORN D'ALCEDO\", 21.0],\n",
       "       ['AIORA', 10.0],\n",
       "       ['FAVARA', 21.0],\n",
       "       [\"L'HORT DE SENABRE\", 21.0],\n",
       "       ['CAMI REAL', 21.0],\n",
       "       [\"L'AMISTAT\", 12.0],\n",
       "       ['LA PUNTA', 10.0],\n",
       "       ['BENIMAMET', 26.0],\n",
       "       ['BENIFERRI', 26.0],\n",
       "       ['CIUTAT FALLERA', 26.0],\n",
       "       ['NOU MOLES', 17.0],\n",
       "       ['LA FONTSANTA', 17.0],\n",
       "       ['LA MALVA-ROSA', 14.0],\n",
       "       ['BORBOTO', 26.0],\n",
       "       ['SANT ANTONI', 26.0],\n",
       "       ['BENIMACLET', 26.0],\n",
       "       ['MARXALENES', 26.0],\n",
       "       ['MORVEDRE', 12.0],\n",
       "       ['CIUTAT UNIVERSITARIA', 12.0],\n",
       "       ['LA VEGA BAIXA', 12.0],\n",
       "       ['BETERO', 12.0],\n",
       "       ['EL PLA DEL REMEI', 12.0],\n",
       "       ['LA GRAN VIA', 12.0],\n",
       "       ['TRES FORQUES', 17.0],\n",
       "       ['CAMI FONDO', 10.0],\n",
       "       ['LA CREU DEL GRAU', 10.0],\n",
       "       ['CIUTAT DE LES ARTS I DE LES CIENCIES', 10.0],\n",
       "       ['MALILLA', 21.0],\n",
       "       ['BENICALAP', 26.0],\n",
       "       ['LA PETXINA', 12.0],\n",
       "       ['SANT FRANCESC', 12.0],\n",
       "       ['ELS ORRIOLS', 26.0],\n",
       "       ['NA ROVELLA', 21.0]], dtype=object)"
      ]
     },
     "execution_count": 90,
     "metadata": {},
     "output_type": "execute_result"
    }
   ],
   "source": [
    "for i in barrios_df['nombre_barrio']:\n",
    "    if i in NORTE:\n",
    "        barrios_df.loc[barrios_df['nombre_barrio'] == i] = barrios_df.fillna(pm25_norte)\n",
    "    elif i in CENTRO:\n",
    "        barrios_df.loc[barrios_df['nombre_barrio'] == i] = barrios_df.fillna(pm25_centro)\n",
    "    elif i in SUR:\n",
    "        barrios_df.loc[barrios_df['nombre_barrio'] == i] = barrios_df.fillna(pm25_sur)\n",
    "    elif i in ESTE:\n",
    "        barrios_df.loc[barrios_df['nombre_barrio'] == i] = barrios_df.fillna(pm25_este)\n",
    "\n",
    "\n",
    "barrios_df[['nombre_barrio', 'pm25']].values"
   ]
  },
  {
   "cell_type": "markdown",
   "metadata": {},
   "source": [
    "Si volvemos a llamar a la función `plot_nas()`, ¡Vemos que ya no hay nulos!\n",
    "\n",
    "Por tanto habríamos terminado con esta parte."
   ]
  },
  {
   "cell_type": "code",
   "execution_count": 91,
   "metadata": {},
   "outputs": [
    {
     "name": "stdout",
     "output_type": "stream",
     "text": [
      "No NAs found\n"
     ]
    }
   ],
   "source": [
    "plot_nas(barrios_df)"
   ]
  },
  {
   "cell_type": "markdown",
   "metadata": {},
   "source": [
    "## 5. Conclusión\n",
    "\n",
    "Con este notebook se ha mostrado el proceso de calidad del dato para un dataframe que venía inicialmente con columnas irrelevantes, barrios que no nos interesaban y muchos nulos. Paso a paso hemos ido tratando de ver cómo podiamos rellenar los datos faltantes y averiguar de qué forma podían resultar más significativos para nuestro análisis y fases futuras del proyecto.\n",
    "\n",
    "Cómo propuesta de mejora continua, hubiera sido interesante almacenar estos datos, ya tratados, en una base de datos de forma que se pudieran visualizar a través de alguna herramienta de BI. Ofreciendo una información más precisa y de más relevancia."
   ]
  }
 ],
 "metadata": {
  "kernelspec": {
   "display_name": "Python 3.10.7 64-bit",
   "language": "python",
   "name": "python3"
  },
  "language_info": {
   "codemirror_mode": {
    "name": "ipython",
    "version": 3
   },
   "file_extension": ".py",
   "mimetype": "text/x-python",
   "name": "python",
   "nbconvert_exporter": "python",
   "pygments_lexer": "ipython3",
   "version": "3.10.7"
  },
  "orig_nbformat": 4,
  "vscode": {
   "interpreter": {
    "hash": "c63d8c7d738c2960218a10995aedf0a7f67a49a231e71037adf0440953cdb45b"
   }
  }
 },
 "nbformat": 4,
 "nbformat_minor": 2
}
