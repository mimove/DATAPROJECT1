{
 "cells": [
  {
   "cell_type": "code",
   "execution_count": 8,
   "metadata": {},
   "outputs": [
    {
     "name": "stdout",
     "output_type": "stream",
     "text": [
      "epsg:4326\n"
     ]
    },
    {
     "name": "stderr",
     "output_type": "stream",
     "text": [
      "/tmp/ipykernel_13340/3840152460.py:99: UserWarning: Column names longer than 10 characters will be truncated when saved to ESRI Shapefile.\n",
      "  merged.to_file(\"test.shp\")\n"
     ]
    },
    {
     "ename": "ValueError",
     "evalue": "Invalid field type <class 'list'>",
     "output_type": "error",
     "traceback": [
      "\u001b[0;31m---------------------------------------------------------------------------\u001b[0m",
      "\u001b[0;31mValueError\u001b[0m                                Traceback (most recent call last)",
      "Cell \u001b[0;32mIn [8], line 99\u001b[0m\n\u001b[1;32m     95\u001b[0m merged \u001b[39m=\u001b[39m gpd\u001b[39m.\u001b[39moverlay(barrios_gpd, zonas_verdes_gpd,   how\u001b[39m=\u001b[39m\u001b[39m'\u001b[39m\u001b[39mintersection\u001b[39m\u001b[39m'\u001b[39m)\n\u001b[1;32m     97\u001b[0m \u001b[39m# merged.to_csv('file_name.csv')\u001b[39;00m\n\u001b[0;32m---> 99\u001b[0m merged\u001b[39m.\u001b[39;49mto_file(\u001b[39m\"\u001b[39;49m\u001b[39mtest.shp\u001b[39;49m\u001b[39m\"\u001b[39;49m)\n\u001b[1;32m    101\u001b[0m \u001b[39mprint\u001b[39m(merged)\n\u001b[1;32m    103\u001b[0m \u001b[39m# print(len(barrios_gpd))\u001b[39;00m\n\u001b[1;32m    104\u001b[0m \n\u001b[1;32m    105\u001b[0m \u001b[39m# print(merged)\u001b[39;00m\n",
      "File \u001b[0;32m/usr/local/lib/python3.10/dist-packages/geopandas/geodataframe.py:1203\u001b[0m, in \u001b[0;36mGeoDataFrame.to_file\u001b[0;34m(self, filename, driver, schema, index, **kwargs)\u001b[0m\n\u001b[1;32m   1120\u001b[0m \u001b[39m\"\"\"Write the ``GeoDataFrame`` to a file.\u001b[39;00m\n\u001b[1;32m   1121\u001b[0m \n\u001b[1;32m   1122\u001b[0m \u001b[39mBy default, an ESRI shapefile is written, but any OGR data source\u001b[39;00m\n\u001b[0;32m   (...)\u001b[0m\n\u001b[1;32m   1199\u001b[0m \u001b[39m>>> gdf.to_file('dataframe.shp', mode=\"a\")  # doctest: +SKIP\u001b[39;00m\n\u001b[1;32m   1200\u001b[0m \u001b[39m\"\"\"\u001b[39;00m\n\u001b[1;32m   1201\u001b[0m \u001b[39mfrom\u001b[39;00m \u001b[39mgeopandas\u001b[39;00m\u001b[39m.\u001b[39;00m\u001b[39mio\u001b[39;00m\u001b[39m.\u001b[39;00m\u001b[39mfile\u001b[39;00m \u001b[39mimport\u001b[39;00m _to_file\n\u001b[0;32m-> 1203\u001b[0m _to_file(\u001b[39mself\u001b[39;49m, filename, driver, schema, index, \u001b[39m*\u001b[39;49m\u001b[39m*\u001b[39;49mkwargs)\n",
      "File \u001b[0;32m/usr/local/lib/python3.10/dist-packages/geopandas/io/file.py:545\u001b[0m, in \u001b[0;36m_to_file\u001b[0;34m(df, filename, driver, schema, index, mode, crs, engine, **kwargs)\u001b[0m\n\u001b[1;32m    538\u001b[0m     warnings\u001b[39m.\u001b[39mwarn(\n\u001b[1;32m    539\u001b[0m         \u001b[39m\"\u001b[39m\u001b[39mColumn names longer than 10 characters will be truncated when saved to \u001b[39m\u001b[39m\"\u001b[39m\n\u001b[1;32m    540\u001b[0m         \u001b[39m\"\u001b[39m\u001b[39mESRI Shapefile.\u001b[39m\u001b[39m\"\u001b[39m,\n\u001b[1;32m    541\u001b[0m         stacklevel\u001b[39m=\u001b[39m\u001b[39m3\u001b[39m,\n\u001b[1;32m    542\u001b[0m     )\n\u001b[1;32m    544\u001b[0m \u001b[39mif\u001b[39;00m engine \u001b[39m==\u001b[39m \u001b[39m\"\u001b[39m\u001b[39mfiona\u001b[39m\u001b[39m\"\u001b[39m:\n\u001b[0;32m--> 545\u001b[0m     _to_file_fiona(df, filename, driver, schema, crs, mode, \u001b[39m*\u001b[39;49m\u001b[39m*\u001b[39;49mkwargs)\n\u001b[1;32m    546\u001b[0m \u001b[39melif\u001b[39;00m engine \u001b[39m==\u001b[39m \u001b[39m\"\u001b[39m\u001b[39mpyogrio\u001b[39m\u001b[39m\"\u001b[39m:\n\u001b[1;32m    547\u001b[0m     _to_file_pyogrio(df, filename, driver, schema, crs, mode, \u001b[39m*\u001b[39m\u001b[39m*\u001b[39mkwargs)\n",
      "File \u001b[0;32m/usr/local/lib/python3.10/dist-packages/geopandas/io/file.py:575\u001b[0m, in \u001b[0;36m_to_file_fiona\u001b[0;34m(df, filename, driver, schema, crs, mode, **kwargs)\u001b[0m\n\u001b[1;32m    571\u001b[0m     crs_wkt \u001b[39m=\u001b[39m crs\u001b[39m.\u001b[39mto_wkt(\u001b[39m\"\u001b[39m\u001b[39mWKT1_GDAL\u001b[39m\u001b[39m\"\u001b[39m)\n\u001b[1;32m    572\u001b[0m \u001b[39mwith\u001b[39;00m fiona\u001b[39m.\u001b[39mopen(\n\u001b[1;32m    573\u001b[0m     filename, mode\u001b[39m=\u001b[39mmode, driver\u001b[39m=\u001b[39mdriver, crs_wkt\u001b[39m=\u001b[39mcrs_wkt, schema\u001b[39m=\u001b[39mschema, \u001b[39m*\u001b[39m\u001b[39m*\u001b[39mkwargs\n\u001b[1;32m    574\u001b[0m ) \u001b[39mas\u001b[39;00m colxn:\n\u001b[0;32m--> 575\u001b[0m     colxn\u001b[39m.\u001b[39;49mwriterecords(df\u001b[39m.\u001b[39;49miterfeatures())\n",
      "File \u001b[0;32m/usr/local/lib/python3.10/dist-packages/fiona/collection.py:361\u001b[0m, in \u001b[0;36mCollection.writerecords\u001b[0;34m(self, records)\u001b[0m\n\u001b[1;32m    359\u001b[0m \u001b[39mif\u001b[39;00m \u001b[39mself\u001b[39m\u001b[39m.\u001b[39mmode \u001b[39mnot\u001b[39;00m \u001b[39min\u001b[39;00m (\u001b[39m'\u001b[39m\u001b[39ma\u001b[39m\u001b[39m'\u001b[39m, \u001b[39m'\u001b[39m\u001b[39mw\u001b[39m\u001b[39m'\u001b[39m):\n\u001b[1;32m    360\u001b[0m     \u001b[39mraise\u001b[39;00m \u001b[39mIOError\u001b[39;00m(\u001b[39m\"\u001b[39m\u001b[39mcollection not open for writing\u001b[39m\u001b[39m\"\u001b[39m)\n\u001b[0;32m--> 361\u001b[0m \u001b[39mself\u001b[39;49m\u001b[39m.\u001b[39;49msession\u001b[39m.\u001b[39;49mwriterecs(records, \u001b[39mself\u001b[39;49m)\n\u001b[1;32m    362\u001b[0m \u001b[39mself\u001b[39m\u001b[39m.\u001b[39m_len \u001b[39m=\u001b[39m \u001b[39mself\u001b[39m\u001b[39m.\u001b[39msession\u001b[39m.\u001b[39mget_length()\n\u001b[1;32m    363\u001b[0m \u001b[39mself\u001b[39m\u001b[39m.\u001b[39m_bounds \u001b[39m=\u001b[39m \u001b[39mNone\u001b[39;00m\n",
      "File \u001b[0;32mfiona/ogrext.pyx:1291\u001b[0m, in \u001b[0;36mfiona.ogrext.WritingSession.writerecs\u001b[0;34m()\u001b[0m\n",
      "File \u001b[0;32mfiona/ogrext.pyx:466\u001b[0m, in \u001b[0;36mfiona.ogrext.OGRFeatureBuilder.build\u001b[0;34m()\u001b[0m\n",
      "\u001b[0;31mValueError\u001b[0m: Invalid field type <class 'list'>"
     ]
    }
   ],
   "source": [
    "\n",
    "import json\n",
    "import geopandas as gpd\n",
    "import matplotlib.pyplot as plt \n",
    "from descartes import PolygonPatch\n",
    "import geoplot\n",
    "import geoplot.crs as gcrs\n",
    "import rtree\n",
    "\n",
    "\n",
    "\n",
    "with open('/home/ttmam/GitHub/DATAPROJECT1/datos_ini/barris-barrios.geojson') as json_file:\n",
    "    json_data = json.load(json_file)\n",
    "\n",
    "\n",
    "# print(json_data.keys())\n",
    "\n",
    "barrios=[]\n",
    "barrios_json = []\n",
    "for i in range(len(json_data['features'])):\n",
    "    barrios.append(json_data['features'][i]['geometry'])\n",
    "    barrios_json.append(json_data['features'][i])\n",
    "\n",
    "\n",
    "\"\"\" \n",
    "BLUE = '#6699cc'\n",
    "fig = plt.figure() \n",
    "ax = fig.gca()\n",
    "for i in range(len(barrios)):\n",
    "    ax.add_patch(PolygonPatch(barrios[i], fc=BLUE, ec=BLUE, alpha=0.5, zorder=2 ))\n",
    "ax.axis('scaled')\n",
    "plt.show()\n",
    " \"\"\"\n",
    "\n",
    "\n",
    "with open('/home/ttmam/GitHub/DATAPROJECT1/datos_ini/zonas-verdes.geojson') as json_file2:\n",
    "    json_data2 = json.load(json_file2)\n",
    "\n",
    "# print(json_data.keys())\n",
    "\n",
    "\n",
    "\n",
    "zonas_verdes=[]\n",
    "zonas_verdes_json=[]\n",
    "\n",
    "for i in range(len(json_data2['features'])):\n",
    "    if json_data2['features'][i]['geometry'] is None:\n",
    "        pass\n",
    "    else:\n",
    "        zonas_verdes.append(json_data2['features'][i]['geometry'])   \n",
    "        zonas_verdes_json.append(json_data2['features'][i])\n",
    "\n",
    "\n",
    "\"\"\" GREEN = '#00FF00'\n",
    "fig = plt.figure() \n",
    "ax = fig.gca()\n",
    "for i in range(len(zonas_verdes)):\n",
    "    # print(i)\n",
    "    ax.add_patch(PolygonPatch(zonas_verdes[i], fc=GREEN, ec=GREEN, alpha=0.5, zorder=2 ))\n",
    "ax.axis('scaled')\n",
    "plt.show() \"\"\"\n",
    "\n",
    "\n",
    "\n",
    "\"\"\" fig = plt.figure() \n",
    "ax = fig.gca()\n",
    "for i in range(len(barrios)):\n",
    "    ax.add_patch(PolygonPatch(barrios[i], fc=BLUE, ec=BLUE, alpha=0.5, zorder=2 ))\n",
    "for i in range(len(zonas_verdes)):\n",
    "    ax.add_patch(PolygonPatch(zonas_verdes[i], fc=GREEN, ec=GREEN, alpha=0.5, zorder=2 ))\n",
    "ax.axis('scaled')\n",
    "plt.show()\n",
    " \"\"\"\n",
    "\n",
    "\n",
    "barrios_gpd = gpd.GeoDataFrame.from_features(barrios_json)\n",
    "barrios_gpd.crs = 'epsg:4326'\n",
    "# barrios_gpd = barrios_gpd.to_crs({'init': 'epsg:3857'})\n",
    "\n",
    "\n",
    "zonas_verdes_gpd = gpd.GeoDataFrame.from_features(zonas_verdes_json)\n",
    "zonas_verdes_gpd.crs = 'epsg:4326'\n",
    "# zonas_verdes_gpd = zonas_verdes_gpd.to_crs({'init': 'epsg:3857'})\n",
    "\n",
    "\n",
    "\"\"\" geoplot.polyplot(zonas_verdes_gpd, projection=gcrs.AlbersEqualArea(), edgecolor='green', facecolor='green', linewidth=.3,\n",
    "    figsize=(12, 8)) \"\"\"\n",
    "    \n",
    "# print(barrios_gpd['geometry'].area)\n",
    "\n",
    "# zonas_verdes_gpd = zonas_verdes_gpd.set_crs('epsg:3857')\n",
    "zonas_verdes_gpd.crs = 'epsg:4326'\n",
    "print(zonas_verdes_gpd.crs)\n",
    "\n",
    "\n",
    "merged = gpd.overlay(barrios_gpd, zonas_verdes_gpd,   how='intersection')\n",
    "\n",
    "# merged.to_csv('file_name.csv')\n",
    "\n",
    "merged.to_file(\"test.shp\")\n",
    "\n",
    "print(merged)\n",
    "\n",
    "# print(len(barrios_gpd))\n",
    "\n",
    "# print(merged)\n",
    "\n",
    "\"\"\" geoplot.polyplot(merged, projection=gcrs.AlbersEqualArea(), edgecolor='green', facecolor='green', linewidth=.3,\n",
    "    figsize=(12, 8)) \"\"\""
   ]
  },
  {
   "cell_type": "code",
   "execution_count": null,
   "metadata": {},
   "outputs": [],
   "source": []
  },
  {
   "cell_type": "code",
   "execution_count": null,
   "metadata": {},
   "outputs": [],
   "source": []
  },
  {
   "cell_type": "code",
   "execution_count": 98,
   "metadata": {},
   "outputs": [
    {
     "ename": "ImportError",
     "evalue": "Spatial indexes require either `rtree` or `pygeos`. See installation instructions at https://geopandas.org/install.html",
     "output_type": "error",
     "traceback": [
      "\u001b[0;31m---------------------------------------------------------------------------\u001b[0m",
      "\u001b[0;31mImportError\u001b[0m                               Traceback (most recent call last)",
      "Cell \u001b[0;32mIn [98], line 31\u001b[0m\n\u001b[1;32m     15\u001b[0m \u001b[39m# print(barrios)\u001b[39;00m\n\u001b[1;32m     16\u001b[0m \n\u001b[1;32m     17\u001b[0m \n\u001b[0;32m   (...)\u001b[0m\n\u001b[1;32m     20\u001b[0m \u001b[39m# for i in range(len(barrios)):\u001b[39;00m\n\u001b[1;32m     21\u001b[0m \u001b[39m#     areas = zonas_verdes.GeoSeries.intersection(barrios[i])\u001b[39;00m\n\u001b[1;32m     23\u001b[0m \u001b[39m\"\"\" geoplot.polyplot(zonas_verdes, projection=gcrs.AlbersEqualArea(), edgecolor='green', facecolor='green', linewidth=.3,\u001b[39;00m\n\u001b[1;32m     24\u001b[0m \u001b[39m    figsize=(12, 8)) \"\"\"\u001b[39;00m\n\u001b[0;32m---> 31\u001b[0m merged \u001b[39m=\u001b[39m gpd\u001b[39m.\u001b[39;49moverlay(barrios, zonas_verdes, how\u001b[39m=\u001b[39;49m\u001b[39m'\u001b[39;49m\u001b[39mintersection\u001b[39;49m\u001b[39m'\u001b[39;49m)\n",
      "File \u001b[0;32m/usr/local/lib/python3.10/dist-packages/geopandas/tools/overlay.py:317\u001b[0m, in \u001b[0;36moverlay\u001b[0;34m(df1, df2, how, keep_geom_type, make_valid)\u001b[0m\n\u001b[1;32m    315\u001b[0m     result \u001b[39m=\u001b[39m _overlay_difference(df1, df2)\n\u001b[1;32m    316\u001b[0m \u001b[39melif\u001b[39;00m how \u001b[39m==\u001b[39m \u001b[39m\"\u001b[39m\u001b[39mintersection\u001b[39m\u001b[39m\"\u001b[39m:\n\u001b[0;32m--> 317\u001b[0m     result \u001b[39m=\u001b[39m _overlay_intersection(df1, df2)\n\u001b[1;32m    318\u001b[0m \u001b[39melif\u001b[39;00m how \u001b[39m==\u001b[39m \u001b[39m\"\u001b[39m\u001b[39msymmetric_difference\u001b[39m\u001b[39m\"\u001b[39m:\n\u001b[1;32m    319\u001b[0m     result \u001b[39m=\u001b[39m _overlay_symmetric_diff(df1, df2)\n",
      "File \u001b[0;32m/usr/local/lib/python3.10/dist-packages/geopandas/tools/overlay.py:30\u001b[0m, in \u001b[0;36m_overlay_intersection\u001b[0;34m(df1, df2)\u001b[0m\n\u001b[1;32m     26\u001b[0m \u001b[39m\"\"\"\u001b[39;00m\n\u001b[1;32m     27\u001b[0m \u001b[39mOverlay Intersection operation used in overlay function\u001b[39;00m\n\u001b[1;32m     28\u001b[0m \u001b[39m\"\"\"\u001b[39;00m\n\u001b[1;32m     29\u001b[0m \u001b[39m# Spatial Index to create intersections\u001b[39;00m\n\u001b[0;32m---> 30\u001b[0m idx1, idx2 \u001b[39m=\u001b[39m df2\u001b[39m.\u001b[39;49msindex\u001b[39m.\u001b[39mquery_bulk(df1\u001b[39m.\u001b[39mgeometry, predicate\u001b[39m=\u001b[39m\u001b[39m\"\u001b[39m\u001b[39mintersects\u001b[39m\u001b[39m\"\u001b[39m, sort\u001b[39m=\u001b[39m\u001b[39mTrue\u001b[39;00m)\n\u001b[1;32m     31\u001b[0m \u001b[39m# Create pairs of geometries in both dataframes to be intersected\u001b[39;00m\n\u001b[1;32m     32\u001b[0m \u001b[39mif\u001b[39;00m idx1\u001b[39m.\u001b[39msize \u001b[39m>\u001b[39m \u001b[39m0\u001b[39m \u001b[39mand\u001b[39;00m idx2\u001b[39m.\u001b[39msize \u001b[39m>\u001b[39m \u001b[39m0\u001b[39m:\n",
      "File \u001b[0;32m/usr/local/lib/python3.10/dist-packages/geopandas/base.py:2788\u001b[0m, in \u001b[0;36mGeoPandasBase.sindex\u001b[0;34m(self)\u001b[0m\n\u001b[1;32m   2737\u001b[0m \u001b[39m@property\u001b[39m\n\u001b[1;32m   2738\u001b[0m \u001b[39mdef\u001b[39;00m \u001b[39msindex\u001b[39m(\u001b[39mself\u001b[39m):\n\u001b[1;32m   2739\u001b[0m     \u001b[39m\"\"\"Generate the spatial index\u001b[39;00m\n\u001b[1;32m   2740\u001b[0m \n\u001b[1;32m   2741\u001b[0m \u001b[39m    Creates R-tree spatial index based on ``pygeos.STRtree`` or\u001b[39;00m\n\u001b[0;32m   (...)\u001b[0m\n\u001b[1;32m   2786\u001b[0m \u001b[39m           [2]])\u001b[39;00m\n\u001b[1;32m   2787\u001b[0m \u001b[39m    \"\"\"\u001b[39;00m\n\u001b[0;32m-> 2788\u001b[0m     \u001b[39mreturn\u001b[39;00m \u001b[39mself\u001b[39;49m\u001b[39m.\u001b[39;49mgeometry\u001b[39m.\u001b[39;49mvalues\u001b[39m.\u001b[39;49msindex\n",
      "File \u001b[0;32m/usr/local/lib/python3.10/dist-packages/geopandas/array.py:295\u001b[0m, in \u001b[0;36mGeometryArray.sindex\u001b[0;34m(self)\u001b[0m\n\u001b[1;32m    292\u001b[0m \u001b[39m@property\u001b[39m\n\u001b[1;32m    293\u001b[0m \u001b[39mdef\u001b[39;00m \u001b[39msindex\u001b[39m(\u001b[39mself\u001b[39m):\n\u001b[1;32m    294\u001b[0m     \u001b[39mif\u001b[39;00m \u001b[39mself\u001b[39m\u001b[39m.\u001b[39m_sindex \u001b[39mis\u001b[39;00m \u001b[39mNone\u001b[39;00m:\n\u001b[0;32m--> 295\u001b[0m         \u001b[39mself\u001b[39m\u001b[39m.\u001b[39m_sindex \u001b[39m=\u001b[39m _get_sindex_class()(\u001b[39mself\u001b[39m\u001b[39m.\u001b[39mdata)\n\u001b[1;32m    296\u001b[0m     \u001b[39mreturn\u001b[39;00m \u001b[39mself\u001b[39m\u001b[39m.\u001b[39m_sindex\n",
      "File \u001b[0;32m/usr/local/lib/python3.10/dist-packages/geopandas/sindex.py:21\u001b[0m, in \u001b[0;36m_get_sindex_class\u001b[0;34m()\u001b[0m\n\u001b[1;32m     19\u001b[0m \u001b[39mif\u001b[39;00m compat\u001b[39m.\u001b[39mHAS_RTREE:\n\u001b[1;32m     20\u001b[0m     \u001b[39mreturn\u001b[39;00m RTreeIndex\n\u001b[0;32m---> 21\u001b[0m \u001b[39mraise\u001b[39;00m \u001b[39mImportError\u001b[39;00m(\n\u001b[1;32m     22\u001b[0m     \u001b[39m\"\u001b[39m\u001b[39mSpatial indexes require either `rtree` or `pygeos`. \u001b[39m\u001b[39m\"\u001b[39m\n\u001b[1;32m     23\u001b[0m     \u001b[39m\"\u001b[39m\u001b[39mSee installation instructions at https://geopandas.org/install.html\u001b[39m\u001b[39m\"\u001b[39m\n\u001b[1;32m     24\u001b[0m )\n",
      "\u001b[0;31mImportError\u001b[0m: Spatial indexes require either `rtree` or `pygeos`. See installation instructions at https://geopandas.org/install.html"
     ]
    }
   ],
   "source": [
    "import geopandas as gpd\n",
    "import geoplot\n",
    "import geoplot.crs as gcrs\n",
    "\n",
    "barrios = gpd.read_file('/home/ttmam/GitHub/DATAPROJECT1/datos_ini/barris-barrios.geojson')\n",
    "barrios = barrios.set_crs('epsg:4326')\n",
    "\n",
    "# geoplot.polyplot(barrios, projection=gcrs.AlbersEqualArea(), edgecolor='darkgrey', facecolor='lightgrey', linewidth=.3,\n",
    "#     figsize=(12, 8))\n",
    "\n",
    "zonas_verdes = gpd.read_file('/home/ttmam/GitHub/DATAPROJECT1/datos_ini/zonas-verdes.geojson')\n",
    "\n",
    "\n",
    "\n",
    "# print(barrios)\n",
    "\n",
    "\n",
    "# result = barrios.loc[barrios.within(zonas_verdes)]\n",
    "\n",
    "# for i in range(len(barrios)):\n",
    "#     areas = zonas_verdes.GeoSeries.intersection(barrios[i])\n",
    "\n",
    "\"\"\" geoplot.polyplot(zonas_verdes, projection=gcrs.AlbersEqualArea(), edgecolor='green', facecolor='green', linewidth=.3,\n",
    "    figsize=(12, 8)) \"\"\"\n",
    "    \n",
    "\n",
    "\n",
    "\n",
    "\n",
    "\n",
    "merged = gpd.overlay(barrios, zonas_verdes, how='intersection')"
   ]
  },
  {
   "cell_type": "code",
   "execution_count": null,
   "metadata": {},
   "outputs": [],
   "source": []
  },
  {
   "cell_type": "code",
   "execution_count": null,
   "metadata": {},
   "outputs": [],
   "source": []
  },
  {
   "cell_type": "code",
   "execution_count": null,
   "metadata": {},
   "outputs": [],
   "source": []
  },
  {
   "cell_type": "code",
   "execution_count": 94,
   "metadata": {},
   "outputs": [],
   "source": [
    "import geopandas as gpd\n",
    "import geoplot\n",
    "import geoplot.crs as gcrs\n",
    "\n",
    "barrios = gpd.read_file('/home/ttmam/GitHub/DATAPROJECT1/datos_ini/barris-barrios.shp')\n",
    "\n",
    "# geoplot.polyplot(barrios, projection=gcrs.AlbersEqualArea(), edgecolor='darkgrey', facecolor='lightgrey', linewidth=.3,\n",
    "#     figsize=(12, 8))\n",
    "\n",
    "zonas_verdes = gpd.read_file('/home/ttmam/GitHub/DATAPROJECT1/datos_ini/zonas-verdes.geojson')\n",
    "\n",
    "\n",
    "\n",
    "\n",
    "\n",
    "# poly_intersections = barrios.overlay(zonas_verdes, how='intersection')"
   ]
  },
  {
   "cell_type": "code",
   "execution_count": null,
   "metadata": {},
   "outputs": [],
   "source": []
  }
 ],
 "metadata": {
  "kernelspec": {
   "display_name": "Python 3.10.6 64-bit",
   "language": "python",
   "name": "python3"
  },
  "language_info": {
   "codemirror_mode": {
    "name": "ipython",
    "version": 3
   },
   "file_extension": ".py",
   "mimetype": "text/x-python",
   "name": "python",
   "nbconvert_exporter": "python",
   "pygments_lexer": "ipython3",
   "version": "3.10.6"
  },
  "orig_nbformat": 4,
  "vscode": {
   "interpreter": {
    "hash": "916dbcbb3f70747c44a77c7bcd40155683ae19c65e1c03b4aa3499c5328201f1"
   }
  }
 },
 "nbformat": 4,
 "nbformat_minor": 2
}
