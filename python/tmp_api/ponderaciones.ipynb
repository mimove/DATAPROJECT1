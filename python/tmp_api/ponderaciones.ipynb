{
 "cells": [
  {
   "cell_type": "markdown",
   "metadata": {},
   "source": [
    "from pydrive.auth import GoogleAuth\n",
    "from pydrive.drive import GoogleDrive\n",
    "from oauth2client import client, file, tools\n",
    "import pandas as pd\n",
    "  \n",
    "'''# Initializing a GoogleAuth Object\n",
    "gauth = GoogleAuth()\n",
    "store = file.Storage('token.json')\n",
    "creds = store.get()\n",
    "# client_secrets.json file is verified\n",
    "# and it automatically handles authentication\n",
    "gauth.LocalWebserverAuth()\n",
    "  \n",
    "# GoogleDrive Instance is created using\n",
    "# authenticated GoogleAuth instance\n",
    "drive = GoogleDrive(gauth)\n",
    "\n",
    "store = file.Storage('token.json')\n",
    "creds = store.get()\n",
    "# Initialize GoogleDriveFile instance with file id\n",
    "file_obj = drive.CreateFile({'id': '15zDrSsGwwX3Kj0oZCPhUPxr0WyRUl1vku6esoxJA7n4'})\n",
    "file_obj.GetContentFile('responses.xls',\n",
    "         mimetype='application/vnd.openxmlformats-officedocument.spreadsheetml.sheet')'''\n",
    "\n",
    "dataframe = pd.read_excel('responses.xls')\n",
    "#print(dataframe)\n",
    "\n",
    "workbook = pd.ExcelFile('responses.xls')\n",
    "d = {} # start with an empty dictionary\n",
    "for sheet_name in workbook.sheet_names:\n",
    "    df = workbook.parse(sheet_name)\n",
    "    d[sheet_name] = df\n",
    "\n",
    "df2 = df.rename(columns={'¿Qué edad tienes?': 'Edad', '¿Tienes hijos?': 'Hijos', '¿Trabajas actualmente?': 'Trabajo', '¿Valoras en gran medida la existencia de comercios cerca de tu zona?': 'Comercios', '¿Valoras en gran medida la existencia de estaciones de transporte público cerca de tu zona?': 'Transporte Publico', '¿Valoras en gran medida la existencia de lugares de ocio cerca de tu zona?': 'Ocio','¿Valoras en gran medida la existencia de colegios cerca de tu zona?': 'Colegios', '¿Valoras en gran medida la existencia de zonas verdes cerca de tu zona?': 'Zonas verdes', '¿Valoras en gran medida la existencia de centros sanitarios cerca de tu zona?': 'Centros Sanitarios', '¿Valoras negativamente la contaminación en tu zona?': 'Contaminacion', '¿El exceso de ruido supone un problema para ti?': 'Ruido', '¿Cuánto valoras la limpieza del barrio?': 'Limpieza','Ante la posibilidad de adquirir un coche electrico, ¿valoras la existencia de puntos de recarga?': 'Electrico', 'De las comodidades anteriores ¿cuáles serían las 3 que más valoras?': 'Comodidades', '¿Cuánto estarías dispuesto a pagar por el alquiler de una casa que ofrezca todas las comodidades que buscas?': 'Alquiler'})\n",
    "#data_test = df.drop(['Marca temporal', 'Puntuación'], axis=1)\n",
    "data_test = df.loc[df.loc[:, 'Edad'] == 'Entre 20 y 24 años']\n",
    "divisor = data_test[data_test.columns[0]].count()\n",
    "media_transp = (data_test['Transporte Publico'].sum())/divisor\n",
    "media_colegios = (data_test['Colegios'].sum())/divisor\n",
    "media_verdes = (data_test['Zonas verdes'].sum())/divisor\n",
    "media_sanitarios = (data_test['Centros Sanitarios'].sum())/divisor\n",
    "media_contaminacion = (data_test['Contaminacion'].sum())/divisor\n",
    "media_ruido = (data_test['Ruido'].sum())/divisor\n",
    "media_limpieza = (data_test['Limpieza'].sum())/divisor\n",
    "media_electrico = (data_test['Electrico'].sum())/divisor\n",
    "print(media_transp,media_colegios, media_verdes, media_sanitarios, media_contaminacion, media_ruido, media_limpieza, media_electrico)\n"
   ]
  }
 ],
 "metadata": {
  "kernelspec": {
   "display_name": "Python 3.10.6 64-bit",
   "language": "python",
   "name": "python3"
  },
  "language_info": {
   "name": "python",
   "version": "3.10.6"
  },
  "orig_nbformat": 4,
  "vscode": {
   "interpreter": {
    "hash": "916dbcbb3f70747c44a77c7bcd40155683ae19c65e1c03b4aa3499c5328201f1"
   }
  }
 },
 "nbformat": 4,
 "nbformat_minor": 2
}
