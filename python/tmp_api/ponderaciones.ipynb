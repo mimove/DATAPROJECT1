{
 "cells": [
  {
   "cell_type": "code",
   "execution_count": 72,
   "metadata": {},
   "outputs": [
    {
     "name": "stdout",
     "output_type": "stream",
     "text": [
      "Column Transporte Público sum: 1367\n",
      "Column Colegios sum: 1080\n",
      "Column Zonas verdes sum: 1363\n",
      "Column Centros Sanitarios sum: 1363\n",
      "Column Contaminación sum: 1284\n",
      "Column Ruido sum: 1279.0\n",
      "Column Limpieza sum: 1420\n",
      "Column Eléctrico sum: 1124.0\n",
      "38\n"
     ]
    }
   ],
   "source": [
    "from pydrive.auth import GoogleAuth\n",
    "from pydrive.drive import GoogleDrive\n",
    "from oauth2client import client, file, tools\n",
    "import pandas as pd\n",
    "  \n",
    "'''# Initializing a GoogleAuth Object\n",
    "gauth = GoogleAuth()\n",
    "\n",
    "# client_secrets.json file is verified\n",
    "# and it automatically handles authentication\n",
    "gauth.LocalWebserverAuth()\n",
    "  \n",
    "# GoogleDrive Instance is created using\n",
    "# authenticated GoogleAuth instance\n",
    "drive = GoogleDrive(gauth)\n",
    "\n",
    "store = file.Storage('token.json')\n",
    "creds = store.get()\n",
    "# Initialize GoogleDriveFile instance with file id\n",
    "file_obj = drive.CreateFile({'id': '15zDrSsGwwX3Kj0oZCPhUPxr0WyRUl1vku6esoxJA7n4'})\n",
    "file_obj.GetContentFile('responses.xls',\n",
    "         mimetype='application/vnd.openxmlformats-officedocument.spreadsheetml.sheet')'''\n",
    "\n",
    "dataframe = pd.read_excel('responses.xls')\n",
    "#print(dataframe)\n",
    "\n",
    "workbook = pd.ExcelFile('responses.xls')\n",
    "d = {} # start with an empty dictionary\n",
    "for sheet_name in workbook.sheet_names:\n",
    "    df = workbook.parse(sheet_name)\n",
    "    d[sheet_name] = df\n",
    "\n",
    "df = df.rename(columns={'¿Qué edad tienes?': 'Edad', '¿Tienes hijos?': 'Hijos', '¿Trabajas actualmente?': 'Trabajo', '¿Valoras en gran medida la existencia de comercios cerca de tu zona?': 'Comercios', '¿Valoras en gran medida la existencia de estaciones de transporte público cerca de tu zona?': 'Transporte Publico', '¿Valoras en gran medida la existencia de lugares de ocio cerca de tu zona?': 'Ocio','¿Valoras en gran medida la existencia de colegios cerca de tu zona?': 'Colegios', '¿Valoras en gran medida la existencia de zonas verdes cerca de tu zona?': 'Zonas verdes', '¿Valoras en gran medida la existencia de centros sanitarios cerca de tu zona?': 'Centros Sanitarios', '¿Valoras negativamente la contaminación en tu zona?': 'Contaminacion', '¿El exceso de ruido supone un problema para ti?': 'Ruido', '¿Cuánto valoras la limpieza del barrio?': 'Limpieza','Ante la posibilidad de adquirir un coche electrico, ¿valoras la existencia de puntos de recarga?': 'Electrico', 'De las comodidades anteriores ¿cuáles serían las 3 que más valoras?': 'Comodidades', '¿Cuánto estarías dispuesto a pagar por el alquiler de una casa que ofrezca todas las comodidades que buscas?': 'Alquiler'})\n",
    "#data_test = df.drop(['Marca temporal', 'Puntuación'], axis=1)\n",
    "data_test = df.loc[df.loc[:, 'Edad'] == 'Entre 20 y 24 años']\n",
    "Total = df['Transporte Publico'].sum()\n",
    "print (\"Column Transporte Público sum:\",Total)\n",
    "Total = df['Colegios'].sum()\n",
    "print (\"Column Colegios sum:\",Total)\n",
    "Total = df['Zonas verdes'].sum()\n",
    "print (\"Column Zonas verdes sum:\",Total)\n",
    "Total = df['Centros Sanitarios'].sum()\n",
    "print (\"Column Centros Sanitarios sum:\",Total) \n",
    "Total = df['Contaminacion'].sum()\n",
    "print (\"Column Contaminación sum:\",Total)\n",
    "Total = df['Ruido'].sum()\n",
    "print (\"Column Ruido sum:\",Total)\n",
    "Total = df['Limpieza'].sum()\n",
    "print (\"Column Limpieza sum:\",Total)\n",
    "Total = df['Electrico'].sum()\n",
    "print (\"Column Eléctrico sum:\",Total)\n",
    "media = data_test[data_test.columns[0]].count()\n",
    "print(media)\n",
    "\n",
    "\n",
    "\n"
   ]
  }
 ],
 "metadata": {
  "kernelspec": {
   "display_name": "Python 3.10.7 64-bit",
   "language": "python",
   "name": "python3"
  },
  "language_info": {
   "codemirror_mode": {
    "name": "ipython",
    "version": 3
   },
   "file_extension": ".py",
   "mimetype": "text/x-python",
   "name": "python",
   "nbconvert_exporter": "python",
   "pygments_lexer": "ipython3",
   "version": "3.10.7"
  },
  "orig_nbformat": 4,
  "vscode": {
   "interpreter": {
    "hash": "75c7325c0caecc2d82c8a4e534cbb5ce82d278e087a13a7861173b66f0f67f74"
   }
  }
 },
 "nbformat": 4,
 "nbformat_minor": 2
}
